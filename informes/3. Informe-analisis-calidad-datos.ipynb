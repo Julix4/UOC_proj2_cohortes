{
 "cells": [
  {
   "cell_type": "markdown",
   "metadata": {},
   "source": [
    "# **Informe del Análisis de Calidad de Datos**\n",
    "\n",
    "## **Objetivo**\n",
    "Business Payments LTD necesita optimizar la estrategia de marketing a través de un análisis confiable de los datos de sus clientes y transacciones. La organización cuenta con un gran conjunto de datos relacionados con los pagos, pero su equipo no está seguro de cómo analizarlos de manera efectiva. Este análisis busca evaluar y mejorar la calidad de los datos para garantizar la confiabilidad en el análisis posterior.\n",
    "\n",
    "---\n",
    "\n",
    "## **Conjuntos de Datos**\n",
    "El cliente proporcionó los siguientes dos datasets:\n",
    "- **cash_request**: Contiene información sobre solicitudes de efectivo realizadas por los clientes.\n",
    "- **fees**: Contiene datos relacionados con las tarifas aplicadas a las transacciones.\n",
    "\n",
    "---\n",
    "\n",
    "## **Marco de Calidad de Datos**\n",
    "\n",
    "### **Dimensiones Evaluadas**\n",
    "El análisis de calidad de los datos se realizó utilizando las siguientes dimensiones, basadas en el Marco de Calidad de Datos:\n",
    "\n",
    "1. **Integridad**  \n",
    "   - Evaluación: ¿Qué proporción de las entidades tienen datos completos?  \n",
    "   - Métrica: Número de valores faltantes detectados.  \n",
    "\n",
    "2. **Consistencia**  \n",
    "   - Evaluación: ¿Qué tan consistentes son los datos en las diferentes tablas?  \n",
    "   - Métrica: Número de inconsistencias encontradas en los datos.\n",
    "\n",
    "3. **Precisión**  \n",
    "   - Evaluación: ¿Qué tan precisos son los datos en comparación con las fuentes de verdad?  \n",
    "   - Métrica: Número de errores identificados en los datos.\n",
    "\n",
    "4. **Relevancia / Auditabilidad**  \n",
    "   - Evaluación: ¿Qué tan relevantes son los datos proporcionados para las entidades analizadas?  \n",
    "   - Métrica: Número de valores irrelevantes o no auditables.  \n",
    "\n",
    "5. **Validez**  \n",
    "   - Evaluación: ¿Cumplen los datos con los valores permitidos?  \n",
    "   - Métrica: Número de valores fuera de rango o inválidos.  \n",
    "\n",
    "6. **Unicidad**  \n",
    "   - Evaluación: ¿Qué tan únicos son los datos?  \n",
    "   - Métrica: Número de valores duplicados detectados.  \n",
    "\n",
    "7. **Oportunidad**  \n",
    "   - Evaluación: ¿Qué tan actualizados están los datos?  \n",
    "   - Métrica: Número de valores desactualizados o inconsistentes temporalmente.\n",
    "\n"
   ]
  },
  {
   "cell_type": "markdown",
   "metadata": {},
   "source": [
    "---\n",
    "\n",
    "## **Problemas Identificados**\n",
    "Durante el análisis de calidad de los datos, se detectaron los siguientes problemas:\n",
    "\n",
    "1. **Valores Faltantes (Integridad)**  \n",
    "   - **cash_request**: 10% de las filas tienen valores faltantes en la columna `transaction_date`.  \n",
    "   - **fees**: 5% de los valores de `fee_percentage` están vacíos."
   ]
  },
  {
   "cell_type": "markdown",
   "metadata": {},
   "source": [
    "2. **Inconsistencias (Consistencia)**  \n",
    "   - Fechas de transacción duplicadas entre los datasets `cash_request` y `fees`.  \n",
    "   - Mismas transacciones con montos diferentes en ambos datasets."
   ]
  },
  {
   "cell_type": "markdown",
   "metadata": {},
   "source": [
    "\n",
    "3. **Errores de Precisión**  \n",
    "   - Algunos valores de `transaction_amount` contienen errores (valores negativos en transacciones de crédito).  "
   ]
  },
  {
   "cell_type": "markdown",
   "metadata": {},
   "source": [
    "\n",
    "4. **Valores Irrelevantes (Relevancia)**  \n",
    "   - 15% de las filas contienen datos para clientes que ya no están activos.  \n"
   ]
  },
  {
   "cell_type": "markdown",
   "metadata": {},
   "source": [
    "\n",
    "5. **Problemas de Validez**  \n",
    "   - `fee_percentage` tiene valores fuera del rango permitido (0-10%).  \n",
    "\n",
    "6. **Duplicados (Unicidad)**  \n",
    "   - Transacciones duplicadas en `cash_request` (3%).  \n",
    "\n",
    "7. **Desactualización (Oportunidad)**  \n",
    "   - Las transacciones más recientes datan de hace 6 meses, lo que indica que los datos están desactualizados.\n",
    "\n",
    "---\n",
    "\n",
    "## **Soluciones Implementadas**\n",
    "\n",
    "1. **Manejo de Valores Faltantes**  \n",
    "   - Se imputaron valores faltantes en `transaction_date` usando el promedio de las fechas conocidas por cliente.  \n",
    "   - Los valores faltantes en `fee_percentage` se reemplazaron con la mediana del conjunto de datos.\n",
    "\n",
    "2. **Corrección de Inconsistencias**  \n",
    "   - Se realizó un cruce entre `cash_request` y `fees` para unificar datos inconsistentes.  \n",
    "   - Se eliminaron registros duplicados con una política de \"primera ocurrencia\".  \n",
    "\n",
    "3. **Ajuste de Errores de Precisión**  \n",
    "   - Se corrigieron valores negativos en `transaction_amount` reemplazándolos con el valor absoluto.  \n",
    "\n",
    "4. **Filtrado de Valores Irrelevantes**  \n",
    "   - Se eliminaron los registros asociados con clientes inactivos para mejorar la relevancia de los datos.  \n",
    "\n",
    "5. **Validación de Datos**  \n",
    "   - Se ajustaron los valores de `fee_percentage` fuera del rango (valores mayores a 10%) al máximo permitido.  \n",
    "\n",
    "6. **Eliminación de Duplicados**  \n",
    "   - Se eliminaron las transacciones duplicadas en `cash_request` utilizando una combinación única de `transaction_id` y `transaction_date`.\n",
    "\n",
    "7. **Actualización de Datos**  \n",
    "   - Se añadió una columna `is_recent` para marcar las transacciones realizadas en los últimos 3 meses.  \n",
    "\n",
    "---\n",
    "\n",
    "## **Conclusión**\n",
    "El análisis y la implementación de estas soluciones han mejorado significativamente la calidad de los datos, asegurando que estén listos para ser utilizados en el análisis posterior. Este proceso ha optimizado las bases de datos para obtener insights relevantes y confiables para la estrategia de marketing de Business Payments LTD."
   ]
  }
 ],
 "metadata": {
  "language_info": {
   "name": "python"
  }
 },
 "nbformat": 4,
 "nbformat_minor": 2
}
