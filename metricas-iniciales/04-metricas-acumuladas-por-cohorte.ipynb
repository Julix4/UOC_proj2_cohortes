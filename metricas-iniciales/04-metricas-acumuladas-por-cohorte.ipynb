{
 "cells": [
  {
   "cell_type": "markdown",
   "metadata": {},
   "source": [
    "**Métricas Acumuladas por Cohorte:** \n",
    "\n",
    "Proponer y calcular métricas acumuladas que proporcionen perspectivas adicionales para la extracción de insights accionables.\n"
   ]
  },
  {
   "cell_type": "code",
   "execution_count": null,
   "metadata": {},
   "outputs": [],
   "source": []
  }
 ],
 "metadata": {
  "language_info": {
   "name": "python"
  }
 },
 "nbformat": 4,
 "nbformat_minor": 2
}
