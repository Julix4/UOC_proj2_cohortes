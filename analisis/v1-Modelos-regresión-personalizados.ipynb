{
 "cells": [
  {
   "cell_type": "markdown",
   "id": "5471901c",
   "metadata": {},
   "source": [
    "**Modelos de Regresión Personalizados**\n",
    "\n",
    "Diseñar y optimizar modelos de regresión mediante la búsqueda sistemática de hiperparámetros. Se debe incluir un análisis de residuos y gráficos de dispersión que comparen los valores reales con las predicciones. Justificar las decisiones tomadas en la configuración de los hiperparámetros con base en analisis coherentes de los datos."
   ]
  },
  {
   "cell_type": "code",
   "execution_count": null,
   "id": "7e714bde",
   "metadata": {},
   "outputs": [],
   "source": [
    "%run './02-analisis-calidad-datos-cashrequest.ipynb'\n",
    "df_cashrequest = df_cashrequest.copy()  # Guardar el primer df\n",
    "\n",
    "df_fees = pd.read_csv('./fees_new.csv').copy()  # Guardar el segundo df"
   ]
  },
  {
   "cell_type": "code",
   "execution_count": 20,
   "id": "2a404c18",
   "metadata": {},
   "outputs": [],
   "source": [
    "import sklearn.model_selection as train_test_split\n",
    "import sklearn.svm as svm"
   ]
  },
  {
   "cell_type": "code",
   "execution_count": 23,
   "id": "3ff812df",
   "metadata": {},
   "outputs": [
    {
     "name": "stdout",
     "output_type": "stream",
     "text": [
      "<class 'pandas.core.frame.DataFrame'>\n",
      "RangeIndex: 23970 entries, 0 to 23969\n",
      "Data columns (total 22 columns):\n",
      " #   Column                      Non-Null Count  Dtype              \n",
      "---  ------                      --------------  -----              \n",
      " 0   id                          23970 non-null  int64              \n",
      " 1   amount                      23970 non-null  float64            \n",
      " 2   status                      23970 non-null  object             \n",
      " 3   created_at                  23970 non-null  datetime64[ns, UTC]\n",
      " 4   updated_at                  23970 non-null  datetime64[ns, UTC]\n",
      " 5   user_id                     21867 non-null  float64            \n",
      " 6   moderated_at                15912 non-null  datetime64[ns, UTC]\n",
      " 7   deleted_account_id          2104 non-null   float64            \n",
      " 8   reimbursement_date          3050 non-null   datetime64[ns, UTC]\n",
      " 9   cash_request_received_date  16289 non-null  datetime64[ns]     \n",
      " 10  money_back_date             12040 non-null  datetime64[ns, UTC]\n",
      " 11  transfer_type               23970 non-null  object             \n",
      " 12  send_at                     16466 non-null  datetime64[ns, UTC]\n",
      " 13  recovery_status             3330 non-null   object             \n",
      " 14  reco_creation               3330 non-null   datetime64[ns, UTC]\n",
      " 15  reco_last_update            3330 non-null   datetime64[ns, UTC]\n",
      " 16  time_to_update              23970 non-null  float64            \n",
      " 17  transaction_month           23970 non-null  period[M]          \n",
      " 18  cohort                      23970 non-null  period[M]          \n",
      " 19  payment_issue               23970 non-null  bool               \n",
      " 20  recovery_status_encoded     23970 non-null  int64              \n",
      " 21  transfer_type_encoded       23970 non-null  int64              \n",
      "dtypes: bool(1), datetime64[ns, UTC](8), datetime64[ns](1), float64(4), int64(3), object(3), period[M](2)\n",
      "memory usage: 3.9+ MB\n"
     ]
    }
   ],
   "source": [
    "df_cashrequest.info()"
   ]
  },
  {
   "cell_type": "code",
   "execution_count": 25,
   "id": "c5813a34",
   "metadata": {},
   "outputs": [
    {
     "name": "stdout",
     "output_type": "stream",
     "text": [
      "<class 'pandas.core.frame.DataFrame'>\n",
      "RangeIndex: 21061 entries, 0 to 21060\n",
      "Data columns (total 14 columns):\n",
      " #   Column           Non-Null Count  Dtype              \n",
      "---  ------           --------------  -----              \n",
      " 0   id               21061 non-null  int64              \n",
      " 1   cash_request_id  21057 non-null  float64            \n",
      " 2   type             21061 non-null  object             \n",
      " 3   status           21061 non-null  object             \n",
      " 4   category         2196 non-null   object             \n",
      " 5   total_amount     21061 non-null  float64            \n",
      " 6   reason           21061 non-null  object             \n",
      " 7   created_at       21061 non-null  datetime64[ns, UTC]\n",
      " 8   updated_at       21061 non-null  datetime64[ns, UTC]\n",
      " 9   paid_at          15438 non-null  datetime64[ns, UTC]\n",
      " 10  from_date        6749 non-null   datetime64[ns, UTC]\n",
      " 11  to_date          6512 non-null   datetime64[ns, UTC]\n",
      " 12  charge_moment    21061 non-null  object             \n",
      " 13  cohort           21061 non-null  period[M]          \n",
      "dtypes: datetime64[ns, UTC](5), float64(2), int64(1), object(5), period[M](1)\n",
      "memory usage: 2.2+ MB\n"
     ]
    }
   ],
   "source": [
    "df_fees.info()"
   ]
  }
 ],
 "metadata": {
  "kernelspec": {
   "display_name": "Python 3",
   "language": "python",
   "name": "python3"
  },
  "language_info": {
   "codemirror_mode": {
    "name": "ipython",
    "version": 3
   },
   "file_extension": ".py",
   "mimetype": "text/x-python",
   "name": "python",
   "nbconvert_exporter": "python",
   "pygments_lexer": "ipython3",
   "version": "3.10.6"
  }
 },
 "nbformat": 4,
 "nbformat_minor": 5
}
